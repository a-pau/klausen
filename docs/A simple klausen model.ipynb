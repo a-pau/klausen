{
 "cells": [
  {
   "cell_type": "markdown",
   "metadata": {},
   "source": [
    "# A simple `klausen` model\n",
    "\n",
    "The `klausen` package provides an easy way to write stochastic models in Python using named parameters. The lifecycle of a `klausen` calculation has three steps:\n",
    "\n",
    "* The modeller defines a set of (quasi-)independent input parameters in a `klausen.NamedParameters` instance. The uncertainty of these parameters can be defined by probability distribution functions (defined using [stats_arrays](https://stats-arrays.readthedocs.io/en/latest/), or by providing a population data sample.\n",
    "* The input parameters are provided to a Python model, which is executed. The model should be ready to accept each parameter as a one-dimensional Numpy array.\n",
    "* The model outputs are then directly analyzed, or exported to serve as inputs for other calculations (e.g. life cycle assessment using [Brightway](https://brightwaylca.org/).\n",
    "\n",
    "## First step: Input parameters\n",
    "\n",
    "In this simple example, we will examine the behaviour of a motor scooter. We will define two input parameters - standard fuel consumption (kg / km), and the behaviour of the driver (unitless). Fuel consumption will follow the Gaussian distribution, with a mean of 10 grams of gasoline per kilometer, a standard deviation of 3, and a minimum of 5. We assume that driver behaviour is a multiplier of fuel consumption, and follows a triangular distribution from 0.8 (minimum) to 1 (mode) to 1.2 (maximum)."
   ]
  },
  {
   "cell_type": "code",
   "execution_count": 36,
   "metadata": {},
   "outputs": [],
   "source": [
    "import klausen\n",
    "import presamples\n",
    "import stats_arrays as sa\n",
    "import numpy"
   ]
  },
  {
   "cell_type": "code",
   "execution_count": 53,
   "metadata": {},
   "outputs": [],
   "source": [
    "parameters = {\n",
    "    'fuel_consumption': {\n",
    "        'loc': 0.01,\n",
    "        'scale': 0.003,\n",
    "        'minimum': 0.005,\n",
    "        'uncertainty_type': sa.NormalUncertainty.id\n",
    "    },\n",
    "    'driver': {\n",
    "        'uncertainty_type': sa.TriangularUncertainty.id,\n",
    "        'minimum': 0.8,\n",
    "        'loc': 1,\n",
    "        'maximum': 1.2\n",
    "    }\n",
    "}\n",
    "np = klausen.NamedParameters(parameters)"
   ]
  },
  {
   "cell_type": "markdown",
   "metadata": {},
   "source": [
    "We want to do Monte Carlo analysis, so we tell the `NamedParameters` object to generate samples."
   ]
  },
  {
   "cell_type": "code",
   "execution_count": 54,
   "metadata": {},
   "outputs": [],
   "source": [
    "np.stochastic(iterations=1000)"
   ]
  },
  {
   "cell_type": "markdown",
   "metadata": {},
   "source": [
    "## Second step: Model\n",
    "\n",
    "As our example is quite simple, the model can also be quite simple.\n",
    "\n",
    "In the model, we assume that complete combustion of one kilogram of gasoline produces three kilograms of $CO_{2}$. This could also have been an uncertain parameter specified in step one."
   ]
  },
  {
   "cell_type": "code",
   "execution_count": 55,
   "metadata": {},
   "outputs": [],
   "source": [
    "def scooter_model(np):\n",
    "    actual_fuel_consumption = np['fuel_consumption'] * np['driver']\n",
    "    co2 = 3 * actual_fuel_consumption\n",
    "    return numpy.vstack((\n",
    "        numpy.array(actual_fuel_consumption), \n",
    "        numpy.array(co2)\n",
    "    ))"
   ]
  },
  {
   "cell_type": "code",
   "execution_count": 56,
   "metadata": {},
   "outputs": [],
   "source": [
    "results = scooter_model(np)"
   ]
  },
  {
   "cell_type": "markdown",
   "metadata": {},
   "source": [
    "## Third step: Interpretation or reuse\n",
    "\n",
    "In this case, we will import the results into Brightway and link against ecoinvent.\n",
    "\n",
    "We will use the [presamples package](https://github.com/PascalLesage/brightway2-presamples) to substitute in our numbers during Monte Carlo *and* during static LCA. We start by defining the values to be used during Monte Carlo.\n",
    "\n",
    "We already have the values for $CO_{2}$ and fuel consumption, but we still need to know which *exchanges* in ecoinvent to change. There are better ways to do this with a lot of output parameters, but in our case we can just find the ones we want directly."
   ]
  },
  {
   "cell_type": "code",
   "execution_count": 57,
   "metadata": {},
   "outputs": [],
   "source": [
    "import brightway2 as bw"
   ]
  },
  {
   "cell_type": "code",
   "execution_count": 58,
   "metadata": {},
   "outputs": [],
   "source": [
    "assert \"ecoinvent 3.5 cutoff\" in bw.databases"
   ]
  },
  {
   "cell_type": "code",
   "execution_count": 59,
   "metadata": {},
   "outputs": [],
   "source": [
    "co2 = next(x for x in bw.Database(\"biosphere3\") \n",
    "           if x['name'] == 'Carbon dioxide, fossil' \n",
    "           and x['categories'] == ('air',)).key\n",
    "scooter = next(x for x in bw.Database(\"ecoinvent 3.5 cutoff\")\n",
    "               if x['name'] == 'transport, passenger, motor scooter'\n",
    "               and x['location'] == 'CH').key\n",
    "petrol = next(x for x in bw.Database(\"ecoinvent 3.5 cutoff\")\n",
    "                if x['name'] == 'market for petrol, low-sulfur'\n",
    "                and x['location'] == 'RoW').key"
   ]
  },
  {
   "cell_type": "code",
   "execution_count": 60,
   "metadata": {},
   "outputs": [],
   "source": [
    "_, stochastic_filepath = presamples.create_presamples_package(\n",
    "    matrix_data=[\n",
    "        (\n",
    "            results[0, :].reshape((1, -1)), \n",
    "            [(petrol, scooter, 'technosphere')], \n",
    "            'technosphere',\n",
    "        ), (\n",
    "            results[1, :].reshape((1, -1)), \n",
    "            [(co2, scooter, 'biosphere')], \n",
    "            'biosphere'\n",
    "        ),\n",
    "    ], \n",
    "    name='Simple Klausen example'\n",
    ")"
   ]
  },
  {
   "cell_type": "code",
   "execution_count": 61,
   "metadata": {},
   "outputs": [],
   "source": [
    "np.static()"
   ]
  },
  {
   "cell_type": "code",
   "execution_count": 62,
   "metadata": {},
   "outputs": [],
   "source": [
    "results = scooter_model(np).reshape((-1, 1))"
   ]
  },
  {
   "cell_type": "code",
   "execution_count": 63,
   "metadata": {},
   "outputs": [],
   "source": [
    "_, static_filepath = presamples.create_presamples_package(\n",
    "    matrix_data=[\n",
    "        (\n",
    "            results[0, :].reshape((1, -1)), \n",
    "            [(petrol, scooter, 'technosphere')], \n",
    "            'technosphere',\n",
    "        ), (\n",
    "            results[1, :].reshape((1, -1)), \n",
    "            [(co2, scooter, 'biosphere')], \n",
    "            'biosphere'\n",
    "        ),\n",
    "    ], \n",
    "    name='Simple Klausen example'\n",
    ")"
   ]
  },
  {
   "cell_type": "code",
   "execution_count": 64,
   "metadata": {},
   "outputs": [],
   "source": [
    "IPCC = ('IPCC 2013', 'climate change', 'GWP 100a')"
   ]
  },
  {
   "cell_type": "code",
   "execution_count": 65,
   "metadata": {},
   "outputs": [
    {
     "data": {
      "text/plain": [
       "0.1436845381180854"
      ]
     },
     "execution_count": 65,
     "metadata": {},
     "output_type": "execute_result"
    }
   ],
   "source": [
    "lca = bw.LCA({scooter: 1}, IPCC)\n",
    "lca.lci()\n",
    "lca.lcia()\n",
    "lca.score"
   ]
  },
  {
   "cell_type": "code",
   "execution_count": 66,
   "metadata": {},
   "outputs": [
    {
     "data": {
      "text/plain": [
       "0.10989319351698595"
      ]
     },
     "execution_count": 66,
     "metadata": {},
     "output_type": "execute_result"
    }
   ],
   "source": [
    "lca = bw.LCA({scooter: 1}, IPCC, presamples=[static_filepath])\n",
    "lca.lci()\n",
    "lca.lcia()\n",
    "lca.score"
   ]
  },
  {
   "cell_type": "code",
   "execution_count": 67,
   "metadata": {},
   "outputs": [
    {
     "name": "stderr",
     "output_type": "stream",
     "text": [
      "/Users/cmutel/Code/presamples/presamples/loader.py:257: SparseEfficiencyWarning: Changing the sparsity structure of a csr_matrix is expensive. lil_matrix is more efficient.\n",
      "  ] = sample\n"
     ]
    }
   ],
   "source": [
    "mc = bw.MonteCarloLCA({scooter: 1}, IPCC, presamples=[stochastic_filepath])\n",
    "mc_results = numpy.array([next(mc) for _ in range(500)])"
   ]
  },
  {
   "cell_type": "code",
   "execution_count": 68,
   "metadata": {},
   "outputs": [],
   "source": [
    "%matplotlib inline"
   ]
  },
  {
   "cell_type": "code",
   "execution_count": 69,
   "metadata": {},
   "outputs": [],
   "source": [
    "import seaborn as sb"
   ]
  },
  {
   "cell_type": "code",
   "execution_count": 70,
   "metadata": {},
   "outputs": [
    {
     "data": {
      "text/plain": [
       "<matplotlib.axes._subplots.AxesSubplot at 0x135088470>"
      ]
     },
     "execution_count": 70,
     "metadata": {},
     "output_type": "execute_result"
    },
    {
     "data": {
      "image/png": "[encoded data removed]",
      "text/plain": [
       "<Figure size 432x288 with 1 Axes>"
      ]
     },
     "metadata": {
      "needs_background": "light"
     },
     "output_type": "display_data"
    }
   ],
   "source": [
    "sb.distplot(mc_results)"
   ]
  },
  {
   "cell_type": "code",
   "execution_count": null,
   "metadata": {},
   "outputs": [],
   "source": []
  }
 ],
 "metadata": {
  "kernelspec": {
   "display_name": "Python 3",
   "language": "python",
   "name": "python3"
  },
  "language_info": {
   "codemirror_mode": {
    "name": "ipython",
    "version": 3
   },
   "file_extension": ".py",
   "mimetype": "text/x-python",
   "name": "python",
   "nbconvert_exporter": "python",
   "pygments_lexer": "ipython3",
   "version": "3.7.3"
  }
 },
 "nbformat": 4,
 "nbformat_minor": 2
}
